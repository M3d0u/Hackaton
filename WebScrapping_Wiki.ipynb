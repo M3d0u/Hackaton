{
 "cells": [
  {
   "cell_type": "code",
   "execution_count": 2,
   "metadata": {},
   "outputs": [],
   "source": [
    "from bs4 import BeautifulSoup\n",
    "import requests as r\n",
    "\n",
    "wiki_page_request = r.get(\"https://fr.wikipedia.org/wiki/Chronologie_des_satellites_artificiels_et_sondes_spatiales#Ann%C3%A9es_2020\")\n",
    "wiki_page_text = wiki_page_request.text\n",
    "\n",
    "soup = BeautifulSoup(wiki_page_text, 'html.parser')"
   ]
  },
  {
   "cell_type": "code",
   "execution_count": 5,
   "metadata": {},
   "outputs": [
    {
     "data": {
      "text/plain": [
       "<title>Chronologie des satellites artificiels et sondes spatiales — Wikipédia</title>"
      ]
     },
     "execution_count": 5,
     "metadata": {},
     "output_type": "execute_result"
    }
   ],
   "source": [
    "soup.title"
   ]
  },
  {
   "cell_type": "code",
   "execution_count": 14,
   "metadata": {},
   "outputs": [],
   "source": [
    "#Toutes les tables dans une variables\n",
    "all_table = soup.find_all('table')"
   ]
  },
  {
   "cell_type": "code",
   "execution_count": 16,
   "metadata": {},
   "outputs": [],
   "source": [
    "#On récupère les headers, qui sont les mêmes pour toutes les tables\n",
    "headers = [header.text.strip() for header in all_table[0].find_all('th')]"
   ]
  },
  {
   "cell_type": "code",
   "execution_count": 17,
   "metadata": {},
   "outputs": [
    {
     "data": {
      "text/plain": [
       "['Date', 'Nom de la mission', 'État', 'Destination (attitude)', 'Commentaire']"
      ]
     },
     "execution_count": 17,
     "metadata": {},
     "output_type": "execute_result"
    }
   ],
   "source": [
    "headers"
   ]
  },
  {
   "cell_type": "code",
   "execution_count": 18,
   "metadata": {},
   "outputs": [],
   "source": [
    "rows = []\n",
    "\n",
    "for table in all_table:\n",
    "    # Find all `tr` tags\n",
    "    data_rows = table.find_all('tr')\n",
    "\n",
    "    for row in data_rows:\n",
    "        value = row.find_all('td')\n",
    "        beautified_value = [ele.text.strip() for ele in value]\n",
    "        # Remove data arrays that are empty\n",
    "        if len(beautified_value) == 0:\n",
    "            continue\n",
    "        rows.append(beautified_value)"
   ]
  },
  {
   "cell_type": "code",
   "execution_count": 33,
   "metadata": {},
   "outputs": [
    {
     "name": "stdout",
     "output_type": "stream",
     "text": [
      "en position 373, la liste fait 6 de long\n",
      "en position 374, la liste fait 6 de long\n",
      "en position 375, la liste fait 6 de long\n"
     ]
    }
   ],
   "source": [
    "#Le dernier tableau de 2020 contient une colonne en plus et il manque quelques données\n",
    "len(rows[1])\n",
    "for i in range (len(rows)):\n",
    "    if len(rows[i])!=5:\n",
    "        print(f'en position {i}, la liste fait {len(rows[i])} de long')"
   ]
  },
  {
   "cell_type": "code",
   "execution_count": 63,
   "metadata": {},
   "outputs": [
    {
     "data": {
      "text/plain": [
       "['30 juillet 2020',\n",
       " 'États-Unis',\n",
       " 'Perseverance',\n",
       " 'Mars',\n",
       " 'Succès. Lancé le 30 juillet avec une fusée Atlas V et atterrit le 18 février 2021 avec le petit hélicoptère Ingenuity.']"
      ]
     },
     "execution_count": 63,
     "metadata": {},
     "output_type": "execute_result"
    }
   ],
   "source": [
    "#J'ai complété tout ça à la main\n",
    "rows[375]"
   ]
  },
  {
   "cell_type": "code",
   "execution_count": 64,
   "metadata": {},
   "outputs": [],
   "source": [
    "#Création d'un DataFrame\n",
    "import pandas as pd\n",
    "df_wiki = pd.DataFrame(rows, columns = headers)"
   ]
  },
  {
   "cell_type": "code",
   "execution_count": 66,
   "metadata": {},
   "outputs": [
    {
     "data": {
      "text/html": [
       "<div>\n",
       "<style scoped>\n",
       "    .dataframe tbody tr th:only-of-type {\n",
       "        vertical-align: middle;\n",
       "    }\n",
       "\n",
       "    .dataframe tbody tr th {\n",
       "        vertical-align: top;\n",
       "    }\n",
       "\n",
       "    .dataframe thead th {\n",
       "        text-align: right;\n",
       "    }\n",
       "</style>\n",
       "<table border=\"1\" class=\"dataframe\">\n",
       "  <thead>\n",
       "    <tr style=\"text-align: right;\">\n",
       "      <th></th>\n",
       "      <th>Date</th>\n",
       "      <th>Nom de la mission</th>\n",
       "      <th>État</th>\n",
       "      <th>Destination (attitude)</th>\n",
       "      <th>Commentaire</th>\n",
       "    </tr>\n",
       "  </thead>\n",
       "  <tbody>\n",
       "    <tr>\n",
       "      <th>0</th>\n",
       "      <td>4 octobre 1957</td>\n",
       "      <td>Spoutnik 1</td>\n",
       "      <td>Union soviétique</td>\n",
       "      <td>Terre (orbiteur)</td>\n",
       "      <td>Succès : premier satellite artificiel en orbit...</td>\n",
       "    </tr>\n",
       "    <tr>\n",
       "      <th>1</th>\n",
       "      <td>3 novembre 1957</td>\n",
       "      <td>Spoutnik 2</td>\n",
       "      <td>Union soviétique</td>\n",
       "      <td>Terre (orbiteur)</td>\n",
       "      <td>Succès partiel : premier satellite artificiel ...</td>\n",
       "    </tr>\n",
       "    <tr>\n",
       "      <th>2</th>\n",
       "      <td>6 décembre 1957</td>\n",
       "      <td>Vanguard TV3</td>\n",
       "      <td>États-Unis</td>\n",
       "      <td>Terre (orbiteur)</td>\n",
       "      <td>Échec : explose sur  le champ de tir</td>\n",
       "    </tr>\n",
       "    <tr>\n",
       "      <th>3</th>\n",
       "      <td>1er février 1958</td>\n",
       "      <td>Explorer 1</td>\n",
       "      <td>États-Unis</td>\n",
       "      <td>Terre (orbiteur)</td>\n",
       "      <td>Succès : premier satellite artificiel américai...</td>\n",
       "    </tr>\n",
       "  </tbody>\n",
       "</table>\n",
       "</div>"
      ],
      "text/plain": [
       "               Date Nom de la mission              État  \\\n",
       "0    4 octobre 1957        Spoutnik 1  Union soviétique   \n",
       "1   3 novembre 1957        Spoutnik 2  Union soviétique   \n",
       "2   6 décembre 1957      Vanguard TV3        États-Unis   \n",
       "3  1er février 1958        Explorer 1        États-Unis   \n",
       "\n",
       "  Destination (attitude)                                        Commentaire  \n",
       "0       Terre (orbiteur)  Succès : premier satellite artificiel en orbit...  \n",
       "1       Terre (orbiteur)  Succès partiel : premier satellite artificiel ...  \n",
       "2       Terre (orbiteur)               Échec : explose sur  le champ de tir  \n",
       "3       Terre (orbiteur)  Succès : premier satellite artificiel américai...  "
      ]
     },
     "execution_count": 66,
     "metadata": {},
     "output_type": "execute_result"
    }
   ],
   "source": [
    "df_wiki.head(4)"
   ]
  },
  {
   "cell_type": "code",
   "execution_count": 159,
   "metadata": {},
   "outputs": [
    {
     "name": "stdout",
     "output_type": "stream",
     "text": [
      "<class 'pandas.core.frame.DataFrame'>\n",
      "RangeIndex: 376 entries, 0 to 375\n",
      "Data columns (total 5 columns):\n",
      " #   Column                  Non-Null Count  Dtype \n",
      "---  ------                  --------------  ----- \n",
      " 0   Date                    376 non-null    object\n",
      " 1   Nom de la mission       376 non-null    object\n",
      " 2   État                    376 non-null    object\n",
      " 3   Destination (attitude)  376 non-null    object\n",
      " 4   Commentaire             376 non-null    object\n",
      "dtypes: object(5)\n",
      "memory usage: 14.8+ KB\n"
     ]
    }
   ],
   "source": [
    "df_wiki.info()"
   ]
  },
  {
   "cell_type": "code",
   "execution_count": 97,
   "metadata": {},
   "outputs": [],
   "source": [
    "#Exportation du DataFrame en .csv\n",
    "#df_wiki.to_csv(r'C:\\Users\\m2lan\\Documents\\WCS\\Hackaton\\Scrapping_wiki.csv')"
   ]
  }
 ],
 "metadata": {
  "kernelspec": {
   "display_name": "Python 3",
   "language": "python",
   "name": "python3"
  },
  "language_info": {
   "codemirror_mode": {
    "name": "ipython",
    "version": 3
   },
   "file_extension": ".py",
   "mimetype": "text/x-python",
   "name": "python",
   "nbconvert_exporter": "python",
   "pygments_lexer": "ipython3",
   "version": "3.8.3"
  }
 },
 "nbformat": 4,
 "nbformat_minor": 4
}
